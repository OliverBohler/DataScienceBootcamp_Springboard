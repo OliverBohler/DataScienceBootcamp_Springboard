{
 "cells": [
  {
   "cell_type": "markdown",
   "id": "6d36bbb4-d97d-4625-a9c9-c4eb3932cb7a",
   "metadata": {},
   "source": [
    "## Part 1 Data Wrangling\n",
    "\n",
    "### User Engagement Data"
   ]
  },
  {
   "cell_type": "code",
   "execution_count": 178,
   "id": "ff0a2f0a-7e80-4f0e-997e-67c5cc07ab01",
   "metadata": {},
   "outputs": [],
   "source": [
    "import pandas as pd\n",
    "import numpy as np\n",
    "import matplotlib.pyplot as plt\n",
    "import seaborn as sns\n",
    "from datetime import timedelta\n",
    "%matplotlib inline\n",
    "\n",
    "engagement = pd.read_csv('/Users/oliverbohler/Desktop/relax_challenge/takehome_user_engagement.csv')"
   ]
  },
  {
   "cell_type": "code",
   "execution_count": 180,
   "id": "e359e610-2a21-42a1-a882-125a02a1839d",
   "metadata": {},
   "outputs": [
    {
     "data": {
      "text/html": [
       "<div>\n",
       "<style scoped>\n",
       "    .dataframe tbody tr th:only-of-type {\n",
       "        vertical-align: middle;\n",
       "    }\n",
       "\n",
       "    .dataframe tbody tr th {\n",
       "        vertical-align: top;\n",
       "    }\n",
       "\n",
       "    .dataframe thead th {\n",
       "        text-align: right;\n",
       "    }\n",
       "</style>\n",
       "<table border=\"1\" class=\"dataframe\">\n",
       "  <thead>\n",
       "    <tr style=\"text-align: right;\">\n",
       "      <th></th>\n",
       "      <th>time_stamp</th>\n",
       "      <th>user_id</th>\n",
       "      <th>visited</th>\n",
       "    </tr>\n",
       "  </thead>\n",
       "  <tbody>\n",
       "    <tr>\n",
       "      <th>0</th>\n",
       "      <td>2014-04-22 03:53:30</td>\n",
       "      <td>1</td>\n",
       "      <td>1</td>\n",
       "    </tr>\n",
       "    <tr>\n",
       "      <th>1</th>\n",
       "      <td>2013-11-15 03:45:04</td>\n",
       "      <td>2</td>\n",
       "      <td>1</td>\n",
       "    </tr>\n",
       "    <tr>\n",
       "      <th>2</th>\n",
       "      <td>2013-11-29 03:45:04</td>\n",
       "      <td>2</td>\n",
       "      <td>1</td>\n",
       "    </tr>\n",
       "    <tr>\n",
       "      <th>3</th>\n",
       "      <td>2013-12-09 03:45:04</td>\n",
       "      <td>2</td>\n",
       "      <td>1</td>\n",
       "    </tr>\n",
       "    <tr>\n",
       "      <th>4</th>\n",
       "      <td>2013-12-25 03:45:04</td>\n",
       "      <td>2</td>\n",
       "      <td>1</td>\n",
       "    </tr>\n",
       "  </tbody>\n",
       "</table>\n",
       "</div>"
      ],
      "text/plain": [
       "            time_stamp  user_id  visited\n",
       "0  2014-04-22 03:53:30        1        1\n",
       "1  2013-11-15 03:45:04        2        1\n",
       "2  2013-11-29 03:45:04        2        1\n",
       "3  2013-12-09 03:45:04        2        1\n",
       "4  2013-12-25 03:45:04        2        1"
      ]
     },
     "execution_count": 180,
     "metadata": {},
     "output_type": "execute_result"
    }
   ],
   "source": [
    "engagement.head()"
   ]
  },
  {
   "cell_type": "code",
   "execution_count": 182,
   "id": "68fb785f-47ed-4e57-b513-7ae3a3a6a56e",
   "metadata": {},
   "outputs": [
    {
     "data": {
      "text/plain": [
       "time_stamp    object\n",
       "user_id        int64\n",
       "visited        int64\n",
       "dtype: object"
      ]
     },
     "execution_count": 182,
     "metadata": {},
     "output_type": "execute_result"
    }
   ],
   "source": [
    "engagement.dtypes"
   ]
  },
  {
   "cell_type": "code",
   "execution_count": 184,
   "id": "668071c4-2b1e-429b-a173-151aed811a3c",
   "metadata": {},
   "outputs": [],
   "source": [
    "engagement['time_stamp'] = pd.to_datetime(\n",
    "    engagement['time_stamp'], format='%Y-%m-%d %H:%M:%S'\n",
    ")"
   ]
  },
  {
   "cell_type": "code",
   "execution_count": 186,
   "id": "9608e1c8-831c-4008-8ed7-03108e3f0a86",
   "metadata": {},
   "outputs": [
    {
     "name": "stdout",
     "output_type": "stream",
     "text": [
      "There were 8823 users and 207917 total logins\n"
     ]
    }
   ],
   "source": [
    "print('There were {} users and {} total logins'.format(\n",
    "    engagement['user_id'].nunique(), len(engagement)\n",
    "))\n"
   ]
  },
  {
   "cell_type": "code",
   "execution_count": 188,
   "id": "34bfad4e-78eb-4102-8c0e-c48aa0e73d26",
   "metadata": {},
   "outputs": [],
   "source": [
    "def logins_in_days(df, days=7, logins=3):\n",
    "    df['date'] = df['time_stamp'].dt.date\n",
    "    df = df.drop_duplicates(subset='date').sort_values('date')\n",
    "    passed_days = df['date'].diff(periods=logins-1)\n",
    "    return any(passed_days <= timedelta(days=days))"
   ]
  },
  {
   "cell_type": "code",
   "execution_count": 190,
   "id": "98563a17-c588-485f-8750-80ce7061e881",
   "metadata": {},
   "outputs": [
    {
     "name": "stderr",
     "output_type": "stream",
     "text": [
      "/var/folders/0z/41_yxdy57v5gqbv0vhg6ky780000gn/T/ipykernel_14912/1337817899.py:1: DeprecationWarning: DataFrameGroupBy.apply operated on the grouping columns. This behavior is deprecated, and in a future version of pandas the grouping columns will be excluded from the operation. Either pass `include_groups=False` to exclude the groupings or explicitly select the grouping columns after groupby to silence this warning.\n",
      "  adopted = engagement.groupby('user_id').apply(logins_in_days)\n"
     ]
    }
   ],
   "source": [
    "adopted = engagement.groupby('user_id').apply(logins_in_days)\n",
    "adopted.name = 'adopted_user'"
   ]
  },
  {
   "cell_type": "code",
   "execution_count": 191,
   "id": "8a6b85ab-f897-4189-aa53-4b1010388acd",
   "metadata": {},
   "outputs": [
    {
     "name": "stdout",
     "output_type": "stream",
     "text": [
      "There were 1656 adopted users out of 8823 users\n"
     ]
    }
   ],
   "source": [
    "print('There were {} adopted users out of {} users'.format(\n",
    "    sum(adopted), len(adopted)))"
   ]
  },
  {
   "cell_type": "markdown",
   "id": "8b0fc528-d812-4dd9-b805-71648005df83",
   "metadata": {},
   "source": [
    "### 1.2 The User Data"
   ]
  },
  {
   "cell_type": "code",
   "execution_count": 192,
   "id": "ce906dce-c0e3-4530-b477-562b686f17b0",
   "metadata": {},
   "outputs": [],
   "source": [
    "users = pd.read_csv('/Users/oliverbohler/Desktop/relax_challenge/takehome_users.csv', encoding='ISO-8859-1')"
   ]
  },
  {
   "cell_type": "code",
   "execution_count": 193,
   "id": "e7cca320-565f-4a4c-94c1-1a051372f5d2",
   "metadata": {},
   "outputs": [
    {
     "data": {
      "text/plain": [
       "object_id                       int64\n",
       "creation_time                  object\n",
       "name                           object\n",
       "email                          object\n",
       "creation_source                object\n",
       "last_session_creation_time    float64\n",
       "opted_in_to_mailing_list        int64\n",
       "enabled_for_marketing_drip      int64\n",
       "org_id                          int64\n",
       "invited_by_user_id            float64\n",
       "dtype: object"
      ]
     },
     "execution_count": 193,
     "metadata": {},
     "output_type": "execute_result"
    }
   ],
   "source": [
    "users.dtypes"
   ]
  },
  {
   "cell_type": "code",
   "execution_count": 198,
   "id": "f850f9a4-0249-43ae-868b-0580d1ff267c",
   "metadata": {},
   "outputs": [],
   "source": [
    "users.drop(columns=['name','email'], inplace = True)"
   ]
  },
  {
   "cell_type": "code",
   "execution_count": 200,
   "id": "13f7fcc8-93b6-4003-9040-da590e94632c",
   "metadata": {},
   "outputs": [
    {
     "data": {
      "text/html": [
       "<div>\n",
       "<style scoped>\n",
       "    .dataframe tbody tr th:only-of-type {\n",
       "        vertical-align: middle;\n",
       "    }\n",
       "\n",
       "    .dataframe tbody tr th {\n",
       "        vertical-align: top;\n",
       "    }\n",
       "\n",
       "    .dataframe thead th {\n",
       "        text-align: right;\n",
       "    }\n",
       "</style>\n",
       "<table border=\"1\" class=\"dataframe\">\n",
       "  <thead>\n",
       "    <tr style=\"text-align: right;\">\n",
       "      <th></th>\n",
       "      <th>object_id</th>\n",
       "      <th>creation_time</th>\n",
       "      <th>creation_source</th>\n",
       "      <th>last_session_creation_time</th>\n",
       "      <th>opted_in_to_mailing_list</th>\n",
       "      <th>enabled_for_marketing_drip</th>\n",
       "      <th>org_id</th>\n",
       "      <th>invited_by_user_id</th>\n",
       "    </tr>\n",
       "  </thead>\n",
       "  <tbody>\n",
       "    <tr>\n",
       "      <th>0</th>\n",
       "      <td>1</td>\n",
       "      <td>2014-04-22 03:53:30</td>\n",
       "      <td>GUEST_INVITE</td>\n",
       "      <td>1.398139e+09</td>\n",
       "      <td>1</td>\n",
       "      <td>0</td>\n",
       "      <td>11</td>\n",
       "      <td>10803.0</td>\n",
       "    </tr>\n",
       "    <tr>\n",
       "      <th>1</th>\n",
       "      <td>2</td>\n",
       "      <td>2013-11-15 03:45:04</td>\n",
       "      <td>ORG_INVITE</td>\n",
       "      <td>1.396238e+09</td>\n",
       "      <td>0</td>\n",
       "      <td>0</td>\n",
       "      <td>1</td>\n",
       "      <td>316.0</td>\n",
       "    </tr>\n",
       "    <tr>\n",
       "      <th>2</th>\n",
       "      <td>3</td>\n",
       "      <td>2013-03-19 23:14:52</td>\n",
       "      <td>ORG_INVITE</td>\n",
       "      <td>1.363735e+09</td>\n",
       "      <td>0</td>\n",
       "      <td>0</td>\n",
       "      <td>94</td>\n",
       "      <td>1525.0</td>\n",
       "    </tr>\n",
       "    <tr>\n",
       "      <th>3</th>\n",
       "      <td>4</td>\n",
       "      <td>2013-05-21 08:09:28</td>\n",
       "      <td>GUEST_INVITE</td>\n",
       "      <td>1.369210e+09</td>\n",
       "      <td>0</td>\n",
       "      <td>0</td>\n",
       "      <td>1</td>\n",
       "      <td>5151.0</td>\n",
       "    </tr>\n",
       "    <tr>\n",
       "      <th>4</th>\n",
       "      <td>5</td>\n",
       "      <td>2013-01-17 10:14:20</td>\n",
       "      <td>GUEST_INVITE</td>\n",
       "      <td>1.358850e+09</td>\n",
       "      <td>0</td>\n",
       "      <td>0</td>\n",
       "      <td>193</td>\n",
       "      <td>5240.0</td>\n",
       "    </tr>\n",
       "  </tbody>\n",
       "</table>\n",
       "</div>"
      ],
      "text/plain": [
       "   object_id        creation_time creation_source  last_session_creation_time  \\\n",
       "0          1  2014-04-22 03:53:30    GUEST_INVITE                1.398139e+09   \n",
       "1          2  2013-11-15 03:45:04      ORG_INVITE                1.396238e+09   \n",
       "2          3  2013-03-19 23:14:52      ORG_INVITE                1.363735e+09   \n",
       "3          4  2013-05-21 08:09:28    GUEST_INVITE                1.369210e+09   \n",
       "4          5  2013-01-17 10:14:20    GUEST_INVITE                1.358850e+09   \n",
       "\n",
       "   opted_in_to_mailing_list  enabled_for_marketing_drip  org_id  \\\n",
       "0                         1                           0      11   \n",
       "1                         0                           0       1   \n",
       "2                         0                           0      94   \n",
       "3                         0                           0       1   \n",
       "4                         0                           0     193   \n",
       "\n",
       "   invited_by_user_id  \n",
       "0             10803.0  \n",
       "1               316.0  \n",
       "2              1525.0  \n",
       "3              5151.0  \n",
       "4              5240.0  "
      ]
     },
     "execution_count": 200,
     "metadata": {},
     "output_type": "execute_result"
    }
   ],
   "source": [
    "users.head()"
   ]
  },
  {
   "cell_type": "code",
   "execution_count": 202,
   "id": "c1e54b31-ad2a-441c-a027-531931a7566b",
   "metadata": {},
   "outputs": [
    {
     "data": {
      "text/plain": [
       "org_id\n",
       "0      319\n",
       "1      233\n",
       "2      201\n",
       "3      168\n",
       "4      159\n",
       "      ... \n",
       "396      9\n",
       "397      8\n",
       "400      8\n",
       "386      7\n",
       "416      2\n",
       "Name: count, Length: 417, dtype: int64"
      ]
     },
     "execution_count": 202,
     "metadata": {},
     "output_type": "execute_result"
    }
   ],
   "source": [
    "users['org_id'].value_counts()"
   ]
  },
  {
   "cell_type": "code",
   "execution_count": 204,
   "id": "b7802b4e-eb90-4bb9-8745-cf8b42204579",
   "metadata": {},
   "outputs": [
    {
     "data": {
      "text/plain": [
       "invited_by_user_id\n",
       "10741.0    13\n",
       "2527.0     12\n",
       "1525.0     11\n",
       "11770.0    11\n",
       "2308.0     11\n",
       "Name: count, dtype: int64"
      ]
     },
     "execution_count": 204,
     "metadata": {},
     "output_type": "execute_result"
    }
   ],
   "source": [
    "users['invited_by_user_id'].value_counts().head()"
   ]
  },
  {
   "cell_type": "code",
   "execution_count": 206,
   "id": "f587c8ce-f1c9-4e22-a7bd-85614c23fd21",
   "metadata": {},
   "outputs": [],
   "source": [
    "users = users.drop(['org_id', 'invited_by_user_id'], axis=1)"
   ]
  },
  {
   "cell_type": "markdown",
   "id": "f3691d80-ffe3-442f-8be7-7cd8ba67f94a",
   "metadata": {},
   "source": [
    "By leveraging the creation time and last session time, we can derive two meaningful features that may contribute to predicting user adoption.\n",
    "\n",
    "The length of time a user has engaged with the software could play a role in determining whether they become an \"adopted user.\" In other words, individuals who have been using the platform for an extended period might have a higher likelihood of adoption compared to those who recently signed up.\n",
    "\n",
    "Additionally, user adoption trends may fluctuate over time, making it valuable to examine account age (calculated from the creation time) to gain further insights"
   ]
  },
  {
   "cell_type": "code",
   "execution_count": 208,
   "id": "532a047a-b1f4-4afb-ab14-c34500126a7a",
   "metadata": {},
   "outputs": [],
   "source": [
    "users['creation_time'] = pd.to_datetime(\n",
    "    users['creation_time'], format='%Y-%m-%d %H:%M:%S')\n",
    "users['last_session_creation_time'] = pd.to_datetime(\n",
    "    users['last_session_creation_time'], unit='s')\n",
    "# calculate user history, defined as number of days between account creation and last use\n",
    "users['history'] = users['last_session_creation_time'] - users['creation_time']\n",
    "users['history'] = users['history'].dt.days\n",
    "\n",
    "latest = max(users['creation_time'])\n",
    "users['account_age'] = latest - users['creation_time']\n",
    "users['account_age'] = users['account_age'].dt.days\n",
    "users = users.drop(['creation_time', 'last_session_creation_time'], axis=1)"
   ]
  },
  {
   "cell_type": "code",
   "execution_count": 210,
   "id": "7748dc04-e888-4d63-9256-8c1809da8793",
   "metadata": {},
   "outputs": [
    {
     "data": {
      "text/html": [
       "<div>\n",
       "<style scoped>\n",
       "    .dataframe tbody tr th:only-of-type {\n",
       "        vertical-align: middle;\n",
       "    }\n",
       "\n",
       "    .dataframe tbody tr th {\n",
       "        vertical-align: top;\n",
       "    }\n",
       "\n",
       "    .dataframe thead th {\n",
       "        text-align: right;\n",
       "    }\n",
       "</style>\n",
       "<table border=\"1\" class=\"dataframe\">\n",
       "  <thead>\n",
       "    <tr style=\"text-align: right;\">\n",
       "      <th></th>\n",
       "      <th>object_id</th>\n",
       "      <th>creation_source</th>\n",
       "      <th>opted_in_to_mailing_list</th>\n",
       "      <th>enabled_for_marketing_drip</th>\n",
       "      <th>history</th>\n",
       "      <th>account_age</th>\n",
       "    </tr>\n",
       "  </thead>\n",
       "  <tbody>\n",
       "    <tr>\n",
       "      <th>0</th>\n",
       "      <td>1</td>\n",
       "      <td>GUEST_INVITE</td>\n",
       "      <td>1</td>\n",
       "      <td>0</td>\n",
       "      <td>0.0</td>\n",
       "      <td>38</td>\n",
       "    </tr>\n",
       "    <tr>\n",
       "      <th>1</th>\n",
       "      <td>2</td>\n",
       "      <td>ORG_INVITE</td>\n",
       "      <td>0</td>\n",
       "      <td>0</td>\n",
       "      <td>136.0</td>\n",
       "      <td>196</td>\n",
       "    </tr>\n",
       "    <tr>\n",
       "      <th>2</th>\n",
       "      <td>3</td>\n",
       "      <td>ORG_INVITE</td>\n",
       "      <td>0</td>\n",
       "      <td>0</td>\n",
       "      <td>0.0</td>\n",
       "      <td>437</td>\n",
       "    </tr>\n",
       "    <tr>\n",
       "      <th>3</th>\n",
       "      <td>4</td>\n",
       "      <td>GUEST_INVITE</td>\n",
       "      <td>0</td>\n",
       "      <td>0</td>\n",
       "      <td>1.0</td>\n",
       "      <td>374</td>\n",
       "    </tr>\n",
       "    <tr>\n",
       "      <th>4</th>\n",
       "      <td>5</td>\n",
       "      <td>GUEST_INVITE</td>\n",
       "      <td>0</td>\n",
       "      <td>0</td>\n",
       "      <td>5.0</td>\n",
       "      <td>498</td>\n",
       "    </tr>\n",
       "  </tbody>\n",
       "</table>\n",
       "</div>"
      ],
      "text/plain": [
       "   object_id creation_source  opted_in_to_mailing_list  \\\n",
       "0          1    GUEST_INVITE                         1   \n",
       "1          2      ORG_INVITE                         0   \n",
       "2          3      ORG_INVITE                         0   \n",
       "3          4    GUEST_INVITE                         0   \n",
       "4          5    GUEST_INVITE                         0   \n",
       "\n",
       "   enabled_for_marketing_drip  history  account_age  \n",
       "0                           0      0.0           38  \n",
       "1                           0    136.0          196  \n",
       "2                           0      0.0          437  \n",
       "3                           0      1.0          374  \n",
       "4                           0      5.0          498  "
      ]
     },
     "execution_count": 210,
     "metadata": {},
     "output_type": "execute_result"
    }
   ],
   "source": [
    "users.head()"
   ]
  },
  {
   "cell_type": "code",
   "execution_count": 212,
   "id": "8b1bbf39-f9bd-4075-ae4e-4481599507ff",
   "metadata": {},
   "outputs": [],
   "source": [
    "users = users.set_index('object_id')\n",
    "users.index.name = 'user_id'\n",
    "data = pd.concat([users, adopted], axis=1, join='inner')\n",
    "data['adopted_user'] = data['adopted_user'].astype(int)"
   ]
  },
  {
   "cell_type": "markdown",
   "id": "7fbbb27b-3fee-4c32-9bc4-3fd74ffc97b8",
   "metadata": {},
   "source": [
    "## 2 Exploratory Data Analysis"
   ]
  },
  {
   "cell_type": "code",
   "execution_count": 258,
   "id": "01910240-a8bb-4867-8f47-d152fcce966c",
   "metadata": {},
   "outputs": [
    {
     "data": {
      "image/png": "[encoded data removed]",
      "text/plain": [
       "<Figure size 640x480 with 1 Axes>"
      ]
     },
     "metadata": {},
     "output_type": "display_data"
    }
   ],
   "source": [
    "plot = sns.countplot(x='creation_source', data=data, hue='adopted_user')\n",
    "plot = plt.xticks(rotation=90)\n",
    "plt.show()"
   ]
  },
  {
   "cell_type": "code",
   "execution_count": 216,
   "id": "367c56eb-ad07-4319-9864-9d1785823d5f",
   "metadata": {},
   "outputs": [
    {
     "name": "stdout",
     "output_type": "stream",
     "text": [
      "chi2 = 41.27933208242451\tp = 2.3526508745340972e-08\n"
     ]
    }
   ],
   "source": [
    "from scipy.stats import chi2_contingency\n",
    "crosstab = pd.crosstab(data['creation_source'], data['adopted_user'])\n",
    "results = chi2_contingency(crosstab)\n",
    "print('chi2 = {}\\tp = {}'.format(results[0], results[1]))"
   ]
  },
  {
   "cell_type": "code",
   "execution_count": 218,
   "id": "87c0ab7d-8766-4084-a39f-51c2d06d5940",
   "metadata": {},
   "outputs": [
    {
     "data": {
      "text/plain": [
       "creation_source\n",
       "GUEST_INVITE          0.232368\n",
       "ORG_INVITE            0.180050\n",
       "PERSONAL_PROJECTS     0.225131\n",
       "SIGNUP                0.159115\n",
       "SIGNUP_GOOGLE_AUTH    0.172563\n",
       "Name: adopted_user, dtype: float64"
      ]
     },
     "execution_count": 218,
     "metadata": {},
     "output_type": "execute_result"
    }
   ],
   "source": [
    "data.groupby('creation_source')['adopted_user'].apply(lambda x: sum(x)/len(x))"
   ]
  },
  {
   "cell_type": "code",
   "execution_count": 220,
   "id": "c25fa3f7-4747-4fe9-8673-82ab2461bc74",
   "metadata": {},
   "outputs": [
    {
     "data": {
      "text/plain": [
       "opted_in_to_mailing_list\n",
       "0    0.185994\n",
       "1    0.192722\n",
       "Name: adopted_user, dtype: float64"
      ]
     },
     "execution_count": 220,
     "metadata": {},
     "output_type": "execute_result"
    }
   ],
   "source": [
    "data.groupby('opted_in_to_mailing_list')['adopted_user'].apply(lambda x: sum(x)/len(x))"
   ]
  },
  {
   "cell_type": "code",
   "execution_count": 222,
   "id": "0774f5f0-0839-4e71-8328-ff7c0ba643ae",
   "metadata": {},
   "outputs": [
    {
     "name": "stdout",
     "output_type": "stream",
     "text": [
      "For opted_in_to_mailing_list, z = 0.7029779128148235, p = 0.4820695142048762\n"
     ]
    }
   ],
   "source": [
    "def z_test(df, col, target='adopted_user'):\n",
    "    from statsmodels.stats.weightstats import CompareMeans\n",
    "    opted_in = df.loc[data[col]==1, target]\n",
    "    opted_out = df.loc[data[col]==0, target]\n",
    "    z_data = CompareMeans.from_data(opted_in, opted_out)\n",
    "    z, p = CompareMeans.ztest_ind(z_data)\n",
    "    print('For {}, z = {}, p = {}'.format(col, z, p))\n",
    "z_test(data, 'opted_in_to_mailing_list')"
   ]
  },
  {
   "cell_type": "code",
   "execution_count": 224,
   "id": "c504e2c5-2254-4908-aed8-d29a75aac241",
   "metadata": {},
   "outputs": [
    {
     "data": {
      "text/plain": [
       "enabled_for_marketing_drip\n",
       "0    0.186982\n",
       "1    0.191648\n",
       "Name: adopted_user, dtype: float64"
      ]
     },
     "execution_count": 224,
     "metadata": {},
     "output_type": "execute_result"
    }
   ],
   "source": [
    "data.groupby('enabled_for_marketing_drip')['adopted_user'].apply(lambda x: sum(x)/len(x))"
   ]
  },
  {
   "cell_type": "code",
   "execution_count": 226,
   "id": "40ff3acc-f43f-4c38-8cb0-bb98fe3c1d4c",
   "metadata": {},
   "outputs": [
    {
     "name": "stdout",
     "output_type": "stream",
     "text": [
      "For enabled_for_marketing_drip, z = 0.40292649500940264, p = 0.6870022995069656\n"
     ]
    }
   ],
   "source": [
    "z_test(data, 'enabled_for_marketing_drip')"
   ]
  },
  {
   "cell_type": "code",
   "execution_count": 228,
   "id": "5fa92bc8-7e12-4392-b208-6caae0fa6fd3",
   "metadata": {},
   "outputs": [
    {
     "data": {
      "image/png": "[encoded data removed]",
      "text/plain": [
       "<Figure size 640x480 with 1 Axes>"
      ]
     },
     "metadata": {},
     "output_type": "display_data"
    }
   ],
   "source": [
    "def plot_hist_days(df, col, xlabel):\n",
    "    _ = plt.hist(df.loc[data['adopted_user']==1, col], \n",
    "                 bins=30, alpha=0.3, color='b', label='adopted user')\n",
    "    _ = plt.hist(df.loc[data['adopted_user']==0, col], \n",
    "                 bins=30, alpha=0.3, color='r', label='non adopted user')\n",
    "    _ = plt.yscale('log')\n",
    "    _ = plt.legend()\n",
    "    _ = plt.xlabel(xlabel)\n",
    "    _ = plt.ylabel('No. of users')\n",
    "    _ = plt.yticks([1, 10, 100, 1000], ['1', '10', '100', '1000'])\n",
    "    plt.show()\n",
    "plot_hist_days(data, 'history', 'user history(days)')"
   ]
  },
  {
   "cell_type": "markdown",
   "id": "a75be092-06ad-477d-9460-5e47d6904155",
   "metadata": {},
   "source": [
    "The graph shows that the users with long history become more likely adopted users. An important graph to understand the specifics of the adopted users."
   ]
  },
  {
   "cell_type": "code",
   "execution_count": 230,
   "id": "25b32dd8-42f1-4e60-b17c-b811516100e5",
   "metadata": {},
   "outputs": [
    {
     "data": {
      "image/png": "[encoded data removed]",
      "text/plain": [
       "<Figure size 640x480 with 1 Axes>"
      ]
     },
     "metadata": {},
     "output_type": "display_data"
    }
   ],
   "source": [
    "plot_hist_days(data, 'account_age', 'account age(days)')"
   ]
  },
  {
   "cell_type": "markdown",
   "id": "3c464e7b-10c2-46b6-ac04-b74477d0b476",
   "metadata": {},
   "source": [
    "The adoption rate is lower in new accounts. There is no extreme drop or spike in adoption rate over the past 2 years."
   ]
  },
  {
   "cell_type": "markdown",
   "id": "3928211d-c733-4042-b00e-64ff89ed4d20",
   "metadata": {},
   "source": [
    "## Predictive Modeling"
   ]
  },
  {
   "cell_type": "code",
   "execution_count": 232,
   "id": "4d3d5a4f-badf-4a34-9562-497b83e74b55",
   "metadata": {},
   "outputs": [],
   "source": [
    "creation_source = pd.get_dummies(data['creation_source'], drop_first=True)\n",
    "model_data = pd.concat([data, creation_source], axis=1).drop('creation_source', axis=1)\n",
    "y = model_data['adopted_user']\n",
    "X = model_data.drop('adopted_user', axis=1)\n",
    "\n",
    "from sklearn.model_selection import train_test_split\n",
    "X_train, X_test, y_train, y_test = train_test_split(\n",
    "    X, y, stratify=y, random_state=42)"
   ]
  },
  {
   "cell_type": "markdown",
   "id": "f7ee080a-10c5-466d-b564-b424e0973df8",
   "metadata": {},
   "source": [
    "### Random Forest"
   ]
  },
  {
   "cell_type": "code",
   "execution_count": 234,
   "id": "b78e188d-d74b-4dac-89a7-e9de31351d4f",
   "metadata": {},
   "outputs": [
    {
     "name": "stdout",
     "output_type": "stream",
     "text": [
      "Best parameters were {'n_estimators': 100}\n",
      "Best average precision was 0.9623700369708137\n"
     ]
    }
   ],
   "source": [
    "from sklearn.ensemble import RandomForestClassifier\n",
    "from sklearn.model_selection import GridSearchCV\n",
    "clf = RandomForestClassifier(random_state=42, class_weight='balanced')\n",
    "\n",
    "params = {'n_estimators': [10, 50, 100, 200]}\n",
    "model = GridSearchCV(clf, params)\n",
    "model.fit(X_train, y_train)\n",
    "print('Best parameters were', model.best_params_)\n",
    "print('Best average precision was', model.best_score_)"
   ]
  },
  {
   "cell_type": "code",
   "execution_count": 244,
   "id": "dd7282ff-49c4-44f5-85e8-8bb1919d36d4",
   "metadata": {},
   "outputs": [
    {
     "name": "stdout",
     "output_type": "stream",
     "text": [
      "Accuracy of test set was 0.9524025385312783\n",
      "              precision    recall  f1-score   support\n",
      "\n",
      "           0       0.97      0.97      0.97      1792\n",
      "           1       0.88      0.86      0.87       414\n",
      "\n",
      "    accuracy                           0.95      2206\n",
      "   macro avg       0.92      0.92      0.92      2206\n",
      "weighted avg       0.95      0.95      0.95      2206\n",
      "\n"
     ]
    }
   ],
   "source": [
    "from sklearn.metrics import classification_report, accuracy_score\n",
    "model = RandomForestClassifier(\n",
    "    random_state=42, class_weight='balanced', n_estimators=100\n",
    ")\n",
    "model.fit(X_train, y_train)\n",
    "y_pred = model.predict(X_test)\n",
    "print('Accuracy of test set was', accuracy_score(y_test, y_pred))\n",
    "print(classification_report(y_test, y_pred))"
   ]
  },
  {
   "cell_type": "code",
   "execution_count": 246,
   "id": "cddde0a3-769c-47ff-8d03-1dd28c367d9a",
   "metadata": {},
   "outputs": [
    {
     "name": "stdout",
     "output_type": "stream",
     "text": [
      "history                       0.895648\n",
      "account_age                   0.088648\n",
      "opted_in_to_mailing_list      0.003301\n",
      "SIGNUP                        0.003050\n",
      "enabled_for_marketing_drip    0.002900\n",
      "ORG_INVITE                    0.002355\n",
      "PERSONAL_PROJECTS             0.002157\n",
      "SIGNUP_GOOGLE_AUTH            0.001942\n",
      "dtype: float64\n"
     ]
    }
   ],
   "source": [
    "imp = pd.Series(model.feature_importances_, index=X.columns)\n",
    "imp = imp.sort_values(ascending=False)\n",
    "print(imp)"
   ]
  },
  {
   "cell_type": "markdown",
   "id": "95e07c40-ed4b-4146-9eeb-28929343f878",
   "metadata": {},
   "source": [
    "## XGBoost"
   ]
  },
  {
   "cell_type": "code",
   "execution_count": 263,
   "id": "4c16869a-6eac-449a-b3a0-db4b4ca0b290",
   "metadata": {},
   "outputs": [
    {
     "name": "stdout",
     "output_type": "stream",
     "text": [
      "Accuracy of test set: 0.9569\n",
      "              precision    recall  f1-score   support\n",
      "\n",
      "           0       0.97      0.98      0.97      1792\n",
      "           1       0.91      0.86      0.88       414\n",
      "\n",
      "    accuracy                           0.96      2206\n",
      "   macro avg       0.94      0.92      0.93      2206\n",
      "weighted avg       0.96      0.96      0.96      2206\n",
      "\n"
     ]
    },
    {
     "name": "stderr",
     "output_type": "stream",
     "text": [
      "/Users/oliverbohler/anaconda3/envs/clean_env/lib/python3.11/site-packages/xgboost/core.py:158: UserWarning: [18:11:45] WARNING: /var/folders/c_/qfmhj66j0tn016nkx_th4hxm0000gp/T/abs_b6qk1lz_ug/croot/xgboost-split_1724073748391/work/src/learner.cc:740: \n",
      "Parameters: { \"use_label_encoder\" } are not used.\n",
      "\n",
      "  warnings.warn(smsg, UserWarning)\n"
     ]
    }
   ],
   "source": [
    "import xgboost as xgb\n",
    "xgb_clf = xgb.XGBClassifier(\n",
    "    objective='binary:logistic', \n",
    "    eval_metric='logloss',\n",
    "    use_label_encoder=False,\n",
    "    n_estimators=100,\n",
    "    learning_rate=0.1,\n",
    "    max_depth=6,\n",
    "    subsample=0.8,\n",
    "    colsample_bytree=0.8,\n",
    "    random_state=42\n",
    ")\n",
    "\n",
    "xgb_clf.fit(X_train, y_train)\n",
    "\n",
    "y_pred = xgb_clf.predict(X_test)\n",
    "\n",
    "print(f\"Accuracy of test set: {accuracy_score(y_test, y_pred):.4f}\")\n",
    "print(classification_report(y_test, y_pred))"
   ]
  },
  {
   "cell_type": "code",
   "execution_count": 265,
   "id": "de3f0b45-e830-4be1-9edd-12e28c914ecb",
   "metadata": {},
   "outputs": [
    {
     "name": "stdout",
     "output_type": "stream",
     "text": [
      "history                       0.828543\n",
      "account_age                   0.036410\n",
      "SIGNUP                        0.025780\n",
      "opted_in_to_mailing_list      0.024960\n",
      "SIGNUP_GOOGLE_AUTH            0.023115\n",
      "enabled_for_marketing_drip    0.021332\n",
      "PERSONAL_PROJECTS             0.020547\n",
      "ORG_INVITE                    0.019315\n",
      "dtype: float32\n"
     ]
    }
   ],
   "source": [
    "imp = pd.Series(xgb_clf.feature_importances_, index=X.columns)\n",
    "imp = imp.sort_values(ascending=False)\n",
    "print(imp)"
   ]
  },
  {
   "cell_type": "markdown",
   "id": "58b4d642-61ae-44b2-8a2f-8ec1e647ef22",
   "metadata": {},
   "source": [
    "The analysis clearly shows that user history is the most influential factor in predicting adoption. Given this insight, a strategic approach to increasing the number of adopted users would be to encourage existing users to log in and engage with the software after they have had their accounts for some time.\n",
    "\n",
    "The signup method also plays a significant role in adoption. When combining the importance of all four signup-related features, guest invitations and personal projects emerge as the most effective signup methods for driving user adoption. To capitalize on this, the company could implement initiatives such as incentivizing user invitations and promoting personal project collaboration within the platform.\n",
    "\n",
    "While account age holds some predictive value, it is not a factor that can be influenced directly. On the other hand, marketing efforts such as mailing lists and marketing drip campaigns appear to have little impact on user adoption and may not be the most effective strategies to prioritize.\n",
    "\n",
    "Additionally, XGBoost outperformed Random Forest slightly, further reinforcing the significance of these key factors in predicting user adoption."
   ]
  },
  {
   "cell_type": "code",
   "execution_count": null,
   "id": "0873bd32-3eb7-4bad-8be3-fb1ad08c0434",
   "metadata": {},
   "outputs": [],
   "source": []
  }
 ],
 "metadata": {
  "kernelspec": {
   "display_name": "clean_env",
   "language": "python",
   "name": "clean_env"
  },
  "language_info": {
   "codemirror_mode": {
    "name": "ipython",
    "version": 3
   },
   "file_extension": ".py",
   "mimetype": "text/x-python",
   "name": "python",
   "nbconvert_exporter": "python",
   "pygments_lexer": "ipython3",
   "version": "3.11.9"
  }
 },
 "nbformat": 4,
 "nbformat_minor": 5
}
